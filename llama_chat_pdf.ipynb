{
 "cells": [
  {
   "cell_type": "markdown",
   "metadata": {},
   "source": [
    "# 1. Import dependencies"
   ]
  },
  {
   "cell_type": "code",
   "execution_count": 7,
   "metadata": {},
   "outputs": [],
   "source": [
    "\n",
    "from langchain.document_loaders import PyPDFLoader, OnlinePDFLoader\n",
    "from langchain.text_splitter import RecursiveCharacterTextSplitter\n",
    "from langchain.embeddings import HuggingFaceEmbeddings\n",
    "from langchain.vectorstores import Pinecone\n",
    "from sentence_transformers import SentenceTransformer\n",
    "from langchain.chains.question_answering import load_qa_chain\n",
    "import pinecone\n",
    "import os"
   ]
  },
  {
   "cell_type": "markdown",
   "metadata": {},
   "source": [
    "# 2. Load your data"
   ]
  },
  {
   "cell_type": "code",
   "execution_count": 8,
   "metadata": {},
   "outputs": [],
   "source": [
    "#loader = PyPDFLoader(\"Deep_Learning_Ian_Goodfellow.pdf\")\n",
    "loader = PyPDFLoader(\"perlembagaan_eng.pdf\")\n",
    "data = loader.load()\n",
    "\n"
   ]
  },
  {
   "cell_type": "code",
   "execution_count": 9,
   "metadata": {},
   "outputs": [
    {
     "name": "stdout",
     "output_type": "stream",
     "text": [
      "146\n"
     ]
    },
    {
     "data": {
      "text/plain": [
       "Document(page_content='The Constitution of Malaysia \\nPictorial Narrative \\nThe composition is dominated by the Jalur Gemilang -the national flag \\nof Malaysia. The valley of the blue canton signifies the unity of the \\nMalaysian people and rising above it, the Crescent and the 14-point Federal \\nStar, its golden rays illuminating other objects in the painting. The Crescent \\nsymbolises Islam, the country\\'s official religion. The royal yellow is also \\nthe colour of the Malay rulers. Radiating from the Federal Star, the Stripes \\nof Glory: the 14 alternate red and white stripes represent the equal status \\nwithin the federation of the 13 member states and the federal government. \\nCentral are the Petronas Towers denoting Malaysia\\'s economic prog\\xad\\nress and modernity. Over the Skybridge, the National Monument- Tugu \\nNegara -remembers those who lost their lives in Malaysia\\'s struggle for \\nfreedom, principally duri~g the Japanese occupation in World War II and \\nthe Malayan emergency, which lasted from i 948-1960. It is also the symbol \\nof Barisan Nasional which has governed JV1alaysia since independence. \\nThe Scales of Justice suspended from the Skybridge reflects Malaysia\\'s \\nadoption of the British democratic parliamentary system of government -\\nthe Westminster Model and the common law system. \\nDirectly beneath the Scales is the Parliament Building with the Palace of \\nJustice on the left. \\nTowering beside the Petronas Towers, is Tunku Abdul Rahman, Malaysia\\'s \\nfirst Prime I\\'v1inister following independence in 1957, regarded as the Father \\nof Independence. \\nProtruding on the opposite side of the Petronas is Keris Pendek Diraja, \\nsymbolising the Constitutional monarchy. \\nAlso represented is multiculturalism and indigenous peoples of !vlalavsia: \\nHinduism -the Om, swinging from Keris; \\nChina the dragon; \\nThe Davak-the Shield (next to Tunku Rahman) used bv one of their chiefs; \\nl\\'vlalays -buffalo horn-shaped roof of a Minangkabau house, belo\"\\'( the \\nshield. THE CONSTITUTION OF MALAYSIA \\nMalaysia\\'s constitution was set at the independence of the Federation of \\nMalaya in 1957 along the lines of the Westminster model, embracing \\nfederalism and constitutional monarchy. That it has endured is explained \\nin terms of the social contract agreed between the leaders of the three \\nmain ethnic groups (Malay, Chinese, Indian) before independence. \\nHowever, increasing ethnic tension erupted in violence in 1969, after \\nwhich the social contract was remade in ways that contradicted the basic \\nassumptions underlying the 1957 Constitution. The outcome was an \\nauthoritarian state that implemented affirmative action in an attempt to \\norchestrate rapid economic development and more equitable distribu\\xad\\ntion. In recent years constitutionalism, as enshrined in the 1957 \\nConstitution but severely challenged during the high authoritarianism \\nof Prime Minister Tun Dr Mahathir Mohamad\\'s developmental state, \\nhas become increasingly relevant once again. However, conflict over \\nreligion has replaced ethnicity as a source of discord. This book exam\\xad\\nines the Malaysian approach to constitutional governance in light of \\nauthoritarianism and continuing inter-communal strife, and explains the \\nways in which a supposedly doomed colonial text has come to be known \\nas \\'our constitution\\'. ', metadata={'source': 'perlembagaan_eng.pdf', 'page': 0})"
      ]
     },
     "execution_count": 9,
     "metadata": {},
     "output_type": "execute_result"
    }
   ],
   "source": [
    "#Taking a peek at our data\n",
    "print(len(data))\n",
    "data[0]"
   ]
  },
  {
   "cell_type": "markdown",
   "metadata": {},
   "source": [
    "# 3. Chunking the data for embedding"
   ]
  },
  {
   "cell_type": "code",
   "execution_count": 10,
   "metadata": {},
   "outputs": [
    {
     "data": {
      "text/plain": [
       "1566"
      ]
     },
     "execution_count": 10,
     "metadata": {},
     "output_type": "execute_result"
    }
   ],
   "source": [
    "text_splitter=RecursiveCharacterTextSplitter(chunk_size=500, chunk_overlap=0)\n",
    "\n",
    "docs=text_splitter.split_documents(data)\n",
    "\n",
    "len(docs)"
   ]
  },
  {
   "cell_type": "code",
   "execution_count": 11,
   "metadata": {},
   "outputs": [
    {
     "data": {
      "text/plain": [
       "Document(page_content=\"have a particular Malaysian resonance -the political economy of law; the \\nrule of law; constitutional government; constitutional monarchy; parlia\\xad\\nmentary democracy; federalism and states' rights; fundamental rights; the \\njudiciary; even the separation of powers. This Malaysian resonance -\\nconstitutional ideas in Malaysian garb -will be in evidence in all the \\nchapters of this book. In the spirit of this series the task of this book is\", metadata={'source': 'perlembagaan_eng.pdf', 'page': 13})"
      ]
     },
     "execution_count": 11,
     "metadata": {},
     "output_type": "execute_result"
    }
   ],
   "source": [
    "docs[123]"
   ]
  },
  {
   "cell_type": "markdown",
   "metadata": {},
   "source": [
    "# 4. Initialize embeddings"
   ]
  },
  {
   "cell_type": "code",
   "execution_count": 12,
   "metadata": {},
   "outputs": [],
   "source": [
    "huggingface_key = '<INSERT YOUR KEY HERE>'\n",
    "pinecone_key = '<INSERT YOUR KEY HERE>'\n",
    "\n",
    "os.environ[\"HUGGINGFACEHUB_API_TOKEN\"] = huggingface_key\n",
    "PINECONE_API_KEY = os.environ.get('PINECONE_API_KEY', pinecone_key)\n",
    "PINECONE_API_ENV = os.environ.get('PINECONE_API_ENV', 'gcp-starter')\n",
    "      "
   ]
  },
  {
   "cell_type": "code",
   "execution_count": 13,
   "metadata": {},
   "outputs": [],
   "source": [
    "embeddings=HuggingFaceEmbeddings(model_name='sentence-transformers/all-MiniLM-L6-v2')\n",
    "\n"
   ]
  },
  {
   "cell_type": "markdown",
   "metadata": {},
   "source": [
    "# 5. Initialize Vector Database"
   ]
  },
  {
   "cell_type": "code",
   "execution_count": 14,
   "metadata": {},
   "outputs": [],
   "source": [
    "#initialize pinecone\n",
    "pinecone.init(\n",
    "    api_key=PINECONE_API_KEY,  # find at app.pinecone.io\n",
    "    environment=PINECONE_API_ENV  # next to api key in console\n",
    ")\n",
    "index_name = \"langchainpinecone\" # put in the name of your pinecone index here. must go to app.pinecone.io to check "
   ]
  },
  {
   "cell_type": "markdown",
   "metadata": {},
   "source": [
    "### Here is where our data/docs is embedded and uploaded to the pinecone vector database \n"
   ]
  },
  {
   "cell_type": "code",
   "execution_count": 15,
   "metadata": {},
   "outputs": [],
   "source": [
    "docsearch=Pinecone.from_texts([t.page_content for t in docs], embeddings, index_name=index_name)"
   ]
  },
  {
   "cell_type": "markdown",
   "metadata": {},
   "source": [
    "# 6. Similarity Search"
   ]
  },
  {
   "cell_type": "code",
   "execution_count": 16,
   "metadata": {},
   "outputs": [
    {
     "data": {
      "text/plain": [
       "[Document(page_content=\"ter five). Of course this arrangement affected only four of the 13 States \\nnow forming Malaysia, but all the States have been profoundly affected \\nby this 1909 Federal Constitution. The Rulers' influence was increas\\xad\\ningly limited to customary and religious matters, and by convention they \\ndid not participate in Federal Council debates. Within the States, powers \\nwere vested more and more in the person of the Ruler, but exercised in\")]"
      ]
     },
     "execution_count": 16,
     "metadata": {},
     "output_type": "execute_result"
    }
   ],
   "source": [
    "query=\"How many states does Malaysia have\"\n",
    "docs=docsearch.similarity_search(query,k=1)\n",
    "docs"
   ]
  },
  {
   "cell_type": "markdown",
   "metadata": {},
   "source": [
    "# Llama 2 Model"
   ]
  },
  {
   "cell_type": "code",
   "execution_count": 17,
   "metadata": {},
   "outputs": [],
   "source": [
    "#!git clone --recursive -j8 https://github.com/abetlen/llama-cpp-python.git\n",
    "\n"
   ]
  },
  {
   "cell_type": "code",
   "execution_count": 18,
   "metadata": {},
   "outputs": [],
   "source": [
    "\n",
    "from langchain.llms import LlamaCpp\n",
    "from langchain.callbacks.manager import CallbackManager\n",
    "from langchain.callbacks.streaming_stdout import StreamingStdOutCallbackHandler\n",
    "from huggingface_hub import hf_hub_download\n",
    "from langchain.chains.question_answering import load_qa_chain"
   ]
  },
  {
   "cell_type": "code",
   "execution_count": 29,
   "metadata": {},
   "outputs": [],
   "source": [
    "# Callbacks support token-wise streaming\n",
    "callback_manager = CallbackManager([StreamingStdOutCallbackHandler()])\n",
    "# Verbose is required to pass to the callback manager"
   ]
  },
  {
   "cell_type": "code",
   "execution_count": 37,
   "metadata": {},
   "outputs": [],
   "source": [
    "\n",
    "#model_name_or_path = \"TheBloke/Llama-2-13B-chat-GGML\"\n",
    "#model_name_or_path = \"TheBloke/Llama-2-7b-Chat-GGUF\"\n",
    "#model_basename = \"llama-2-13b-chat.ggmlv3.q5_1.bin\" # the model is in bin format\n",
    "\n",
    "\n",
    "model_name_or_path = \"TheBloke/CodeLlama-13B-Python-GGUF\"\n",
    "model_basename = \"codellama-13b-python.Q5_K_M.gguf\"\n",
    "\n",
    "\n",
    "#model_name_or_path = \"TheBloke/Llama-2-7b-Chat-GGUF\"\n",
    "#model_basename = \"llama-2-7b-chat.Q4_K_M.gguf\" # the model is in bin format\n",
    "\n",
    "\n",
    "#model_name_or_path = \"TheBloke/Mistral-7B-v0.1-GGUF\"\n",
    "#model_basename = \"mistral-7b-v0.1.Q4_K_M.gguf\" # the model is in bin format\n"
   ]
  },
  {
   "cell_type": "code",
   "execution_count": 38,
   "metadata": {},
   "outputs": [
    {
     "name": "stderr",
     "output_type": "stream",
     "text": [
      "Downloading (…)b-python.Q5_K_M.gguf: 100%|██████████| 9.23G/9.23G [18:05<00:00, 8.50MB/s]\n"
     ]
    }
   ],
   "source": [
    "model_path = hf_hub_download(repo_id=model_name_or_path, filename=model_basename)\n"
   ]
  },
  {
   "cell_type": "code",
   "execution_count": 39,
   "metadata": {},
   "outputs": [
    {
     "name": "stderr",
     "output_type": "stream",
     "text": [
      "AVX = 1 | AVX2 = 1 | AVX512 = 0 | AVX512_VBMI = 0 | AVX512_VNNI = 0 | FMA = 1 | NEON = 0 | ARM_FMA = 0 | F16C = 1 | FP16_VA = 0 | WASM_SIMD = 0 | BLAS = 0 | SSE3 = 1 | SSSE3 = 0 | VSX = 0 | \n"
     ]
    }
   ],
   "source": [
    "n_gpu_layers = 3  # Change this value based on your model and your GPU VRAM pool.\n",
    "n_batch = 256  # Should be between 1 and n_ctx, consider the amount of VRAM in your GPU.\n",
    "\n",
    "# Loading model,\n",
    "llm = LlamaCpp(\n",
    "    model_path=model_path,\n",
    "    max_tokens=256,\n",
    "    n_gpu_layers=n_gpu_layers,\n",
    "    n_batch=n_batch,\n",
    "    callback_manager=callback_manager,\n",
    "    n_ctx=1024,\n",
    "    verbose=True,\n",
    ")"
   ]
  },
  {
   "cell_type": "code",
   "execution_count": 44,
   "metadata": {},
   "outputs": [
    {
     "data": {
      "text/plain": [
       "[Document(page_content=\"ter five). Of course this arrangement affected only four of the 13 States \\nnow forming Malaysia, but all the States have been profoundly affected \\nby this 1909 Federal Constitution. The Rulers' influence was increas\\xad\\ningly limited to customary and religious matters, and by convention they \\ndid not participate in Federal Council debates. Within the States, powers \\nwere vested more and more in the person of the Ruler, but exercised in\"),\n",
       " Document(page_content=\"ter five). Of course this arrangement affected only four of the 13 States \\nnow forming Malaysia, but all the States have been profoundly affected \\nby this 1909 Federal Constitution. The Rulers' influence was increas\\xad\\ningly limited to customary and religious matters, and by convention they \\ndid not participate in Federal Council debates. Within the States, powers \\nwere vested more and more in the person of the Ruler, but exercised in\")]"
      ]
     },
     "execution_count": 44,
     "metadata": {},
     "output_type": "execute_result"
    }
   ],
   "source": [
    "chain=load_qa_chain(llm, chain_type=\"stuff\")\n",
    "query=\"how many states are there in Malaysia\"\n",
    "\n",
    "docs=docsearch.similarity_search(query,k=2)\n",
    "docs"
   ]
  },
  {
   "cell_type": "code",
   "execution_count": 45,
   "metadata": {},
   "outputs": [
    {
     "name": "stdout",
     "output_type": "stream",
     "text": [
      " all 13 of them the the the the the the the the the the the the the the the the the the the the States States States were are are are are are are are are are are are are are are are are are are are are are are are are are are are are are are are are are are are are are are are are are are are are are are are are are are are are are in Malaysia\n",
      "\n",
      "\n",
      "\n",
      "Answer: according to Article Article Article Article Article Article Article Article Article Article Article Article Article Article Article Article Article Article Article Article Article Article Article Article Article Article Article Article Article Article Article Article Article Article Article Article Article Article Article Article Article Article Article Article Article Article Article Article Article Article Article Article Article Article Article Article Article Article Article Article Article Article Article Article Article Article Article Article Article Article Article Article Article Article Article Article Article Article Article Article Article Article Article Article Article Article Article Article Article Article Article Article Article Article Article Article Article Article Article Article Article Article Article Article Article Article Article Article Article Article Article Article Article Article Article Article Article Article Article Article Article Article Article Article Article Article Article Article Article Article Article Article Article Article Article Article Article Article Article Article Article Article Article Article Article Article Article Article Article Article Article Article Article Article Article Article Article Article Article Article Article Article"
     ]
    },
    {
     "data": {
      "text/plain": [
       "' all 13 of them the the the the the the the the the the the the the the the the the the the the States States States were are are are are are are are are are are are are are are are are are are are are are are are are are are are are are are are are are are are are are are are are are are are are are are are are are are are are are in Malaysia\\n\\n\\n\\nAnswer: according to Article Article Article Article Article Article Article Article Article Article Article Article Article Article Article Article Article Article Article Article Article Article Article Article Article Article Article Article Article Article Article Article Article Article Article Article Article Article Article Article Article Article Article Article Article Article Article Article Article Article Article Article Article Article Article Article Article Article Article Article Article Article Article Article Article Article Article Article Article Article Article Article Article Article Article Article Article Article Article Article Article Article Article Article Article Article Article Article Article Article Article Article Article Article Article Article Article Article Article Article Article Article Article Article Article Article Article Article Article Article Article Article Article Article Article Article Article Article Article Article Article Article Article Article Article Article Article Article Article Article Article Article Article Article Article Article Article Article Article Article Article Article Article Article Article Article Article Article Article Article Article Article Article Article Article Article Article Article Article Article Article Article'"
      ]
     },
     "execution_count": 45,
     "metadata": {},
     "output_type": "execute_result"
    }
   ],
   "source": [
    "chain.run(input_documents=docs, question=query)"
   ]
  },
  {
   "cell_type": "code",
   "execution_count": 50,
   "metadata": {},
   "outputs": [
    {
     "data": {
      "text/plain": [
       "'Federal powers are largely limited to Islamic law and custom, land, agri\\xad culture,'"
      ]
     },
     "execution_count": 50,
     "metadata": {},
     "output_type": "execute_result"
    }
   ],
   "source": [
    "#query=\"YOLOv7 trained on which dataset\"\n",
    "#query=\"how many states are there in Malaysia\"\n",
    "#query=\"How do you change the constitution\"\n",
    "query=\"What are the difference between federal and states\"\n",
    "\n",
    "\n",
    "docs=docsearch.similarity_search(query)\n",
    "chain.run(input_documents=docs, question=query)"
   ]
  },
  {
   "cell_type": "code",
   "execution_count": 47,
   "metadata": {},
   "outputs": [],
   "source": [
    "from langchain.llms import HuggingFaceHub"
   ]
  },
  {
   "cell_type": "code",
   "execution_count": 48,
   "metadata": {},
   "outputs": [
    {
     "name": "stderr",
     "output_type": "stream",
     "text": [
      "c:\\Users\\shahr\\code\\LLM_playground\\.llmenv\\Lib\\site-packages\\huggingface_hub\\utils\\_deprecation.py:127: FutureWarning: '__init__' (from 'huggingface_hub.inference_api') is deprecated and will be removed from version '0.19.0'. `InferenceApi` client is deprecated in favor of the more feature-complete `InferenceClient`. Check out this guide to learn how to convert your script to use it: https://huggingface.co/docs/huggingface_hub/guides/inference#legacy-inferenceapi-client.\n",
      "  warnings.warn(warning_message, FutureWarning)\n"
     ]
    }
   ],
   "source": [
    "llm=HuggingFaceHub(repo_id=\"google/flan-t5-xxl\", model_kwargs={\"temperature\":0.5, \"max_length\":512})"
   ]
  },
  {
   "cell_type": "code",
   "execution_count": 71,
   "metadata": {},
   "outputs": [
    {
     "data": {
      "text/plain": [
       "'a Bill to amend the Constitution must be supported at its second and third readings by two-'"
      ]
     },
     "execution_count": 71,
     "metadata": {},
     "output_type": "execute_result"
    }
   ],
   "source": [
    "chain=load_qa_chain(llm, chain_type=\"stuff\")\n",
    "query=\"how many states are there in Malaysia\"\n",
    "query=\"What are the roles of the Rulers\"\n",
    "query=\"Who is the head of the country\"\n",
    "query=\"How do you change the constitution\"\n",
    "\n",
    "\n",
    "docs=docsearch.similarity_search(query)\n",
    "\n",
    "chain.run(input_documents=docs, question=query)"
   ]
  }
 ],
 "metadata": {
  "kernelspec": {
   "display_name": ".llmenv",
   "language": "python",
   "name": "python3"
  },
  "language_info": {
   "codemirror_mode": {
    "name": "ipython",
    "version": 3
   },
   "file_extension": ".py",
   "mimetype": "text/x-python",
   "name": "python",
   "nbconvert_exporter": "python",
   "pygments_lexer": "ipython3",
   "version": "3.11.4"
  }
 },
 "nbformat": 4,
 "nbformat_minor": 2
}
